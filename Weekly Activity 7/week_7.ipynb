{
 "cells": [
  {
   "cell_type": "code",
   "execution_count": 1,
   "metadata": {},
   "outputs": [
    {
     "data": {
      "text/plain": [
       "True"
      ]
     },
     "execution_count": 1,
     "metadata": {},
     "output_type": "execute_result"
    }
   ],
   "source": [
    "import sys\n",
    "\n",
    "assert sys.version_info >= (3,7)\n",
    "\n",
    "import cv2 as cv\n",
    "import numpy as np\n",
    "import matplotlib.pyplot as plt\n",
    "from mpl_toolkits.mplot3d import Axes3D\n",
    "from matplotlib import cm\n",
    "from matplotlib import colors\n",
    "from matplotlib.colors import hsv_to_rgb\n",
    "\n",
    "\n",
    "if not cv.useOptimized():\n",
    "    cv.setUseOptimized(True)\n",
    "\n",
    "cv.useOptimized()"
   ]
  },
  {
   "cell_type": "markdown",
   "metadata": {},
   "source": [
    "# Question 1. \n",
    "Apply histogram equalization on a histogram equalized image. In other words, apply histogram equalization twice on an image. Is there any difference between the first and second output image?"
   ]
  },
  {
   "cell_type": "code",
   "execution_count": 4,
   "metadata": {},
   "outputs": [],
   "source": [
    "img = cv.imread('dog1.jfif')\n",
    "gray = cv.cvtColor(img, cv.COLOR_BGR2GRAY)\n",
    "equlizer = cv.equalizeHist(gray)\n",
    "equlizer2 = cv.equalizeHist(equlizer)\n",
    "cv.imshow('original', img)\n",
    "cv.imshow('first_equ_image', equlizer)\n",
    "cv.imshow('second_equ_image', equlizer2)\n",
    "\n",
    "#There is no any difference between these two images.\n",
    "\n",
    "cv.waitKey(0)\n",
    "cv.destroyAllWindows()"
   ]
  },
  {
   "cell_type": "markdown",
   "metadata": {},
   "source": [
    "# Question 2\n",
    "\n",
    "Load the image 'electronic.jfif'. Then,\n",
    "\n",
    "A)  Experiment with different kernel size. Which kernel size is the most appropriate?\n",
    "\n",
    "B)  Perform edge detection using Sobel operator (combined both x and y) with and without image smoothing (Gaussian blurring). Display the 2 images.\n",
    "\n",
    "C)  Try Laplacian of Gaussian\n"
   ]
  },
  {
   "cell_type": "code",
   "execution_count": 5,
   "metadata": {},
   "outputs": [],
   "source": [
    "#A)Experiment with different kernel size. Which kernel size is the most appropriate?\n",
    "img = cv.imread('electronic.jfif', 0)\n",
    "\n",
    "img_blur = cv.GaussianBlur(img, (5, 5), 0)\n",
    "\n",
    "for i in range(1, 6, 2): #According to this range kernal size 3 is better compared to 1 and 5\n",
    "    sobelx = cv.Sobel(img_blur, cv.CV_64F, 1, 0, ksize = i)\n",
    "    sobelx_8u = np.uint8(np.absolute(sobelx))\n",
    "    cv.imshow('Sobel x' + str(i), sobelx_8u)\n",
    "\n",
    "    \n",
    "cv.waitKey(0)\n",
    "cv.destroyAllWindows()"
   ]
  },
  {
   "cell_type": "code",
   "execution_count": 6,
   "metadata": {},
   "outputs": [],
   "source": [
    "#B) Perform edge detection using Sobel operator (combined both x and y) with and without image smoothing (Gaussian blurring). Display the 2 images.\n",
    "\n",
    "sobelxy = cv.Sobel(img, cv.CV_64F, 1, 1, ksize = 3)\n",
    "sobelxy_8u = np.uint8(np.absolute(sobelxy))\n",
    "sobelxy_blur = cv.Sobel(img_blur, cv.CV_64F, 1, 1, ksize = 3)\n",
    "sobelxy_8u_blur = np.uint8(np.absolute(sobelxy_blur))\n",
    "\n",
    "cv.imshow('Sobel not blurred', sobelxy_8u)\n",
    "cv.imshow('Sobel blurred', sobelxy_8u_blur)\n",
    "cv.waitKey(0)\n",
    "cv.destroyAllWindows()"
   ]
  },
  {
   "cell_type": "code",
   "execution_count": 7,
   "metadata": {},
   "outputs": [],
   "source": [
    "#C) Try Laplacian of Gaussian\n",
    "laplacian_blur = cv.Laplacian(img_blur, cv.CV_64F, ksize = 3)\n",
    "laplacian_blur = np.uint8(np.absolute(laplacian_blur))\n",
    "\n",
    "cv.imshow('results', laplacian_blur)\n",
    "cv.waitKey(0)\n",
    "cv.destroyAllWindows()"
   ]
  },
  {
   "cell_type": "markdown",
   "metadata": {},
   "source": [
    "Based on the 3 exercise conducted from (A) - (C), exercise C is more optimal compared to exercise A,B because laplacian blur is way more perfect in detecting the edges of the electronic appliances."
   ]
  },
  {
   "cell_type": "markdown",
   "metadata": {},
   "source": [
    "# Question 3\n",
    "Experiment with different edge detectors: Sobel, Laplacian, Prewitt, Scharr derivatives and Canny operators (all with aperture size of 3) on image named 'pineapple.jfif'. Comment on the results."
   ]
  },
  {
   "cell_type": "code",
   "execution_count": 8,
   "metadata": {},
   "outputs": [],
   "source": [
    "img = cv.imread('pineapple.jfif', 0)\n",
    "\n",
    "img_blur = cv.GaussianBlur(img, (3, 3), 0)\n",
    "\n",
    "#Sobel\n",
    "sobel = cv.Sobel(img_blur, cv.CV_64F, 1, 0, ksize = 3)\n",
    "sobel_8u = np.uint8(np.absolute(sobel))\n",
    "\n",
    "#Laplacian\n",
    "laplacian = cv.Laplacian(img_blur, cv.CV_64F, ksize = 3)\n",
    "laplacian_8u = np.uint8(np.absolute(laplacian))\n",
    "\n",
    "#prewitt\n",
    "kernelx = np.array([[1,1,1],[0,0,0],[-1,-1,-1]])\n",
    "kernely = np.array([[-1,0,1],[-1,0,1],[-1,0,1]])\n",
    "img_prewittx = cv.filter2D(img_blur, -1, kernelx)\n",
    "img_prewitty = cv.filter2D(img_blur, -1, kernely)\n",
    "\n",
    "#scharr\n",
    "img_scharr_x = cv.Scharr(img_blur, cv.CV_64F, 1, 0)\n",
    "img_scharr_x = np.uint8(np.absolute(img_scharr_x))\n",
    "img_scharr_y = cv.Scharr(img_blur, cv.CV_64F, 0, 1)\n",
    "img_scharr_y = np.uint8(np.absolute(img_scharr_y))\n",
    "img_scharr = cv.bitwise_or(img_scharr_x,img_scharr_y) \n",
    "\n",
    "#canny\n",
    "img_canny = cv.Canny(img_blur, 100, 200)\n",
    "\n",
    "cv.imshow('sobel_results', sobel_8u)\n",
    "cv.imshow('laplacian_results', laplacian)\n",
    "cv.imshow('prewitt_results', img_prewittx + img_prewitty)\n",
    "cv.imshow('scharr_results', img_scharr)\n",
    "cv.imshow('canny_results', img_canny)\n",
    "cv.waitKey(0)\n",
    "cv.destroyAllWindows()"
   ]
  },
  {
   "cell_type": "markdown",
   "metadata": {},
   "source": [
    "Canny edge detection is perfect in edge detection meanwhile laplacian dint do a perfect job in edge detection. "
   ]
  },
  {
   "cell_type": "markdown",
   "metadata": {},
   "source": [
    "# Question 4\n",
    "Write a program to identify the white object (probably laptop) present in the image 'electronic.jfif'. Draw bounding boxes on the objects."
   ]
  },
  {
   "cell_type": "code",
   "execution_count": 9,
   "metadata": {},
   "outputs": [
    {
     "data": {
      "image/png": "[encoded data removed]",
      "text/plain": [
       "<Figure size 432x288 with 2 Axes>"
      ]
     },
     "metadata": {},
     "output_type": "display_data"
    }
   ],
   "source": [
    "img = cv.imread('electronic.jfif')\n",
    "\n",
    "lower = [160, 160, 160]\n",
    "upper = [255, 255, 255]\n",
    "\n",
    "lower = np.array(lower, dtype = \"uint8\")\n",
    "upper = np.array(upper, dtype = \"uint8\")\n",
    "\n",
    "mask = cv.inRange(img, lower, upper)\n",
    "output = cv.bitwise_and(img, img, mask = mask)\n",
    "\n",
    "ret,thresh = cv.threshold(mask, 40, 255, 0)\n",
    "\n",
    "contours, hierarchy = cv.findContours(thresh, cv.RETR_EXTERNAL, cv.CHAIN_APPROX_NONE)\n",
    "\n",
    "if len(contours) != 0:\n",
    "# draw in blue the contours that were founded\n",
    "    cv.drawContours(output, contours, -1, 255, 3)\n",
    "\n",
    "\n",
    "    c = max(contours, key = cv.contourArea)\n",
    "    x, y, w, h = cv.boundingRect(c)\n",
    "\n",
    "\n",
    "    cv.rectangle(img,(x,y),(x + w, y + h), (0, 255, 0), 2)\n",
    "\n",
    "\n",
    "\n",
    "plt.subplot(121),plt.imshow(img, cmap = 'gray')\n",
    "plt.title('Original Image'), plt.xticks([]), plt.yticks([])\n",
    "plt.subplot(122),plt.imshow(output, cmap = 'gray')\n",
    "plt.title('Contours'), plt.xticks([]), plt.yticks([])\n",
    "plt.show()\n",
    "\n",
    "\n"
   ]
  },
  {
   "cell_type": "code",
   "execution_count": null,
   "metadata": {},
   "outputs": [],
   "source": []
  }
 ],
 "metadata": {
  "kernelspec": {
   "display_name": "Python 3.8.9 64-bit",
   "language": "python",
   "name": "python3"
  },
  "language_info": {
   "codemirror_mode": {
    "name": "ipython",
    "version": 3
   },
   "file_extension": ".py",
   "mimetype": "text/x-python",
   "name": "python",
   "nbconvert_exporter": "python",
   "pygments_lexer": "ipython3",
   "version": "3.8.9"
  },
  "orig_nbformat": 4,
  "vscode": {
   "interpreter": {
    "hash": "31f2aee4e71d21fbe5cf8b01ff0e069b9275f58929596ceb00d14d90e3e16cd6"
   }
  }
 },
 "nbformat": 4,
 "nbformat_minor": 2
}
