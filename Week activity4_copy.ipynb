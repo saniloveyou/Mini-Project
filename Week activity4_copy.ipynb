{
 "cells": [
  {
   "cell_type": "markdown",
   "metadata": {},
   "source": [
    "# Suggest two ways and write codes to display two images simultaneously. You can use any image snapped from your handphone, downloaded from internet or images from week 4 materials on MS teams. The two images are a color image and its corresponding grayscale image."
   ]
  },
  {
   "cell_type": "code",
   "execution_count": 1,
   "metadata": {},
   "outputs": [],
   "source": [
    "#display in separate windows \n",
    "import cv2 as cv\n",
    "import numpy as np\n",
    "\n",
    "#read image\n",
    "img = cv.imread('/Users/san/Pictures/Mini project/Weekly activity/Week activity 4/moon.jpg')\n",
    "\n",
    "#resize the image\n",
    "img = cv.resize(img,(400,400))\n",
    "img_grey = cv.cvtColor(img, cv.COLOR_BGR2GRAY)\n",
    "\n",
    "\n",
    "cv.imshow('image1', img)\n",
    "cv.imshow('image2', img_grey)\n",
    "cv.waitKey(0)\n",
    "cv.destroyAllWindows()"
   ]
  },
  {
   "cell_type": "code",
   "execution_count": 3,
   "metadata": {},
   "outputs": [],
   "source": [
    "#Using concatenation to display image simultaneously\n",
    "import cv2 as cv\n",
    "import numpy as np\n",
    "\n",
    "#read image\n",
    "img = cv.imread('/Users/san/Pictures/Mini project/Weekly activity/Week activity 4/moon.jpg')\n",
    "\n",
    "# resize image(img1)\n",
    "img = cv.resize(img,(400,400))\n",
    "\n",
    "# convert image to gray scale\n",
    "img_grey = cv.cvtColor(img, cv.COLOR_BGR2GRAY)\n",
    "\n",
    "#  Make the grey scale image(img1_grey) have three channels\n",
    "img1_grey_3channel = cv.cvtColor(img_grey, cv.COLOR_GRAY2BGR)\n",
    "\n",
    "#concatenate the images\n",
    "multi_img = np.concatenate((img, img1_grey_3channel), axis=1)\n",
    "cv.imshow('multi_img', multi_img)\n",
    "cv.waitKey(0)\n",
    "cv.destroyAllWindows()\n",
    "\n"
   ]
  },
  {
   "cell_type": "markdown",
   "metadata": {},
   "source": []
  },
  {
   "cell_type": "markdown",
   "metadata": {},
   "source": [
    "# Write codes that performs the following:\n",
    "* Load the video “img_pexels.mp4” into the Python environment, resize it and display the videos with smaller frames (The frames can be of any size, as long as it is smaller). You can specify an arbitrary frame rate.\n",
    "* Save it as a separate files: “smaller_img_pexels.avi” or \"smaller_img_pexels.mp4\""
   ]
  },
  {
   "cell_type": "code",
   "execution_count": 2,
   "metadata": {},
   "outputs": [
    {
     "name": "stdout",
     "output_type": "stream",
     "text": [
      "360 640\n",
      "The video was successfully saved\n"
     ]
    }
   ],
   "source": [
    "\n",
    "import cv2 \n",
    "  \n",
    "video = cv2.VideoCapture('/Users/san/Pictures/Mini project/Weekly activity/Week activity 4/img_pexels.mp4')\n",
    "\n",
    "if (video.isOpened() == False): \n",
    "    print(\"Error reading video file\")\n",
    "\n",
    "width = int(video.get(3)/3)\n",
    "height = int(video.get(4)/3)\n",
    "\n",
    "result = cv2.VideoWriter('smaller_img_pexels.avi', \n",
    "                         cv2.VideoWriter_fourcc(*'MJPG'),\n",
    "                         10,(width,height))\n",
    "    \n",
    "while(True):\n",
    "    ret, frame = video.read()\n",
    "  \n",
    "    if not ret:\n",
    "        print(\"Can't receive frame.\")\n",
    "        break\n",
    "\n",
    "    frame_resize = cv2.resize(frame,(width,height), interpolation = cv2.INTER_CUBIC)\n",
    "\n",
    "    result.write(frame_resize)\n",
    "\n",
    "\n",
    "    cv2.imshow('Frame', frame_resize)\n",
    "\n",
    "    if cv2.waitKey(100) & 0xFF == ord('s'):  \n",
    "        break\n",
    "\n",
    "video.release()\n",
    "result.release()\n",
    "    \n",
    "cv2.destroyAllWindows()\n",
    "   \n",
    "print(\"The video was successfully saved\")"
   ]
  },
  {
   "cell_type": "markdown",
   "metadata": {},
   "source": [
    "# Create a random noise color and grayscale image. You can set a custom width and height. (Hint: use Numpy functions like np.array and np.reshape.)"
   ]
  },
  {
   "cell_type": "code",
   "execution_count": 1,
   "metadata": {},
   "outputs": [],
   "source": [
    "import cv2\n",
    "import numpy as np\n",
    "\n",
    "#generate random integer numbers in list\n",
    "noise = np.array([np.random.randint(0,255,3) for i in range(262144)],dtype = 'uint8')\n",
    "\n",
    "#reshape the images with custem height and width\n",
    "noise = np.reshape(noise,(512,512,3))\n",
    "\n",
    "#convert bgr to gray\n",
    "noise_Grayscale = cv2.cvtColor(noise, cv2.COLOR_BGR2GRAY)\n",
    "\n",
    "#Display the noise /noise grayscale image\n",
    "cv2.imshow('Noise',noise)\n",
    "cv2.imshow('Noice Grayscale',noise_Grayscale)\n",
    "cv2.waitKey(0)\n"
   ]
  },
  {
   "cell_type": "code",
   "execution_count": null,
   "metadata": {},
   "outputs": [],
   "source": []
  }
 ],
 "metadata": {
  "kernelspec": {
   "display_name": "Python 3.8.9 64-bit",
   "language": "python",
   "name": "python3"
  },
  "language_info": {
   "codemirror_mode": {
    "name": "ipython",
    "version": 3
   },
   "file_extension": ".py",
   "mimetype": "text/x-python",
   "name": "python",
   "nbconvert_exporter": "python",
   "pygments_lexer": "ipython3",
   "version": "3.8.9"
  },
  "orig_nbformat": 4,
  "vscode": {
   "interpreter": {
    "hash": "31f2aee4e71d21fbe5cf8b01ff0e069b9275f58929596ceb00d14d90e3e16cd6"
   }
  }
 },
 "nbformat": 4,
 "nbformat_minor": 2
}
