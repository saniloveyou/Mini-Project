{
 "cells": [
  {
   "cell_type": "markdown",
   "metadata": {},
   "source": [
    "# Suggest two ways and write codes to display two images simultaneously. You can use any image snapped from your handphone, downloaded from internet or images from week 4 materials on MS teams. The two images are a color image and its corresponding grayscale image."
   ]
  },
  {
   "cell_type": "code",
   "execution_count": 5,
   "metadata": {},
   "outputs": [],
   "source": [
    "#First method - display simultaneously in separate windows \n",
    "import cv2 as cv\n",
    "import numpy as np\n",
    "\n",
    "#read image\n",
    "img = cv.imread('moon.jpg')\n",
    "#read image in grayscale\n",
    "img_grayscale = cv.imread('moon.jpg',0)\n",
    "\n",
    "# Display the image in color and grayscale\n",
    "cv.imshow('image in color', img)\n",
    "cv.imshow('image in grayscale', img_grayscale)\n",
    "cv.waitKey(0)\n",
    "cv.destroyAllWindows()"
   ]
  },
  {
   "cell_type": "code",
   "execution_count": 1,
   "metadata": {},
   "outputs": [],
   "source": [
    "#Second method - Using concatenation to display image simultaneously\n",
    "import cv2 as cv\n",
    "import numpy as np\n",
    "\n",
    "#read image in color and grayscale\n",
    "img = cv.imread('moon.jpg')\n",
    "img_grey = cv.imread('moon.jpg',0)\n",
    "\n",
    "#  Make the grey scale image(img1_grey) have three channels\n",
    "img1_grey_3channel = cv.cvtColor(img_grey, cv.COLOR_GRAY2BGR)\n",
    "\n",
    "#concatenate the images\n",
    "multi_img = np.concatenate((img, img1_grey_3channel), axis=1)\n",
    "\n",
    "# Display the image in color and grayscale\n",
    "cv.imshow('multi_img', multi_img)\n",
    "cv.waitKey(0)\n",
    "cv.destroyAllWindows()\n",
    "\n"
   ]
  },
  {
   "cell_type": "markdown",
   "metadata": {},
   "source": []
  },
  {
   "cell_type": "markdown",
   "metadata": {},
   "source": [
    "# Write codes that performs the following:\n",
    "* Load the video “img_pexels.mp4” into the Python environment, resize it and display the videos with smaller frames (The frames can be of any size, as long as it is smaller). You can specify an arbitrary frame rate.\n",
    "* Save it as a separate files: “smaller_img_pexels.avi” or \"smaller_img_pexels.mp4\""
   ]
  },
  {
   "cell_type": "code",
   "execution_count": 2,
   "metadata": {},
   "outputs": [
    {
     "name": "stdout",
     "output_type": "stream",
     "text": [
      "The video has successfully saved\n"
     ]
    }
   ],
   "source": [
    "\n",
    "import cv2 \n",
    "  \n",
    "#read the video \n",
    "video = cv2.VideoCapture('img_pexels.mp4')\n",
    "\n",
    "# check whether video is opened successfully\n",
    "if (video.isOpened() == False): \n",
    "    print(\"Error reading video file\")\n",
    "\n",
    "#specify the size of frame and frame rate\n",
    "width = int(video.get(3)/3)\n",
    "height = int(video.get(4)/3)\n",
    "fps = 30\n",
    "\n",
    "#output video \n",
    "result = cv2.VideoWriter('smaller_img_pexels.avi', cv2.VideoWriter_fourcc('M', 'J', 'P', 'G'),fps,(width,height))\n",
    "\n",
    "#while true display each frame of the video\n",
    "while(True):\n",
    "    ret, frame = video.read()\n",
    "  \n",
    "  # if ret is true, the frame is read correctly\n",
    "    if  ret:\n",
    "        # resize the frame by divisible by 3\n",
    "        frame_resize = cv2.resize(frame,(width,height), interpolation = cv2.INTER_LINEAR)\n",
    "        # write the frame to the output video\n",
    "        result.write(frame_resize)\n",
    "        # display the frame\n",
    "        cv2.imshow('Frame', frame_resize)\n",
    "\n",
    "    # if the user presses esc, it breaks the loop\n",
    "    if cv2.waitKey(1) & 0xFF == 27:  \n",
    "        break\n",
    "# release the video capture and video write objects\n",
    "video.release()\n",
    "# close all the frames\n",
    "result.release()\n",
    "# close all the windows\n",
    "cv2.destroyAllWindows()\n",
    "   \n",
    "print(\"The video has successfully saved\")"
   ]
  },
  {
   "cell_type": "markdown",
   "metadata": {},
   "source": [
    "# Create a random noise color and grayscale image. You can set a custom width and height. (Hint: use Numpy functions like np.array and np.reshape.)"
   ]
  },
  {
   "cell_type": "code",
   "execution_count": 1,
   "metadata": {},
   "outputs": [],
   "source": [
    "import cv2\n",
    "import numpy as np\n",
    "\n",
    "#generate random integer numbers until 262144(512 x 512) in list\n",
    "noise = np.array([np.random.randint(0,255,3) for i in range(262144)],dtype = 'uint8')\n",
    "\n",
    "#reshape the images with custem height and width\n",
    "noise = np.reshape(noise,(512,512,3))\n",
    "\n",
    "#convert bgr to gray\n",
    "noise_Grayscale = cv2.cvtColor(noise, cv2.COLOR_BGR2GRAY)\n",
    "\n",
    "#Display the noise /noise grayscale image\n",
    "cv2.imshow('Noise',noise)\n",
    "cv2.imshow('Noice Grayscale',noise_Grayscale)\n",
    "cv2.waitKey(0)\n"
   ]
  }
 ],
 "metadata": {
  "kernelspec": {
   "display_name": "Python 3.8.9 64-bit",
   "language": "python",
   "name": "python3"
  },
  "language_info": {
   "codemirror_mode": {
    "name": "ipython",
    "version": 3
   },
   "file_extension": ".py",
   "mimetype": "text/x-python",
   "name": "python",
   "nbconvert_exporter": "python",
   "pygments_lexer": "ipython3",
   "version": "3.8.9"
  },
  "orig_nbformat": 4,
  "vscode": {
   "interpreter": {
    "hash": "31f2aee4e71d21fbe5cf8b01ff0e069b9275f58929596ceb00d14d90e3e16cd6"
   }
  }
 },
 "nbformat": 4,
 "nbformat_minor": 2
}
